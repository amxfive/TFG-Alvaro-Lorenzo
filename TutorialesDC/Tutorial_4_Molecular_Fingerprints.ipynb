{
 "cells": [
  {
   "cell_type": "markdown",
   "id": "0c3353cb",
   "metadata": {},
   "source": [
    "# Molecular Fingerprints"
   ]
  },
  {
   "cell_type": "markdown",
   "id": "4ac5f031",
   "metadata": {},
   "source": [
    "Las moléculas pueden ser representadas de diversas maneras. En este tutorial veremos un tipo de representación llamada \"Molecular Fingerprint\". Es una representanción muy simple pero que funciona muy bien para moleculas con similaridad a fármacos pequeñas"
   ]
  },
  {
   "cell_type": "code",
   "execution_count": 1,
   "id": "da9b07a0",
   "metadata": {},
   "outputs": [
    {
     "name": "stderr",
     "output_type": "stream",
     "text": [
      "Skipped loading modules with pytorch-geometric dependency, missing a dependency. No module named 'torch_geometric'\n",
      "Skipped loading modules with pytorch-geometric dependency, missing a dependency. cannot import name 'DMPNN' from 'deepchem.models.torch_models' (C:\\Users\\alloh\\Miniconda3\\lib\\site-packages\\deepchem\\models\\torch_models\\__init__.py)\n",
      "Skipped loading modules with pytorch-lightning dependency, missing a dependency. No module named 'pytorch_lightning'\n",
      "Skipped loading some Jax models, missing a dependency. No module named 'jax'\n"
     ]
    },
    {
     "data": {
      "text/plain": [
       "'2.7.1'"
      ]
     },
     "execution_count": 1,
     "metadata": {},
     "output_type": "execute_result"
    }
   ],
   "source": [
    "import deepchem as dc\n",
    "dc.__version__"
   ]
  },
  {
   "cell_type": "markdown",
   "id": "ffaacb19",
   "metadata": {},
   "source": [
    "## Que es Fingerprint?"
   ]
  },
  {
   "cell_type": "markdown",
   "id": "dcfd953e",
   "metadata": {},
   "source": [
    "Los modelos de DL casi siempre usan un array de números como entradas. Si queremos procesar moléculas en ellos, de alguna manera tenemos que representar cada molécula como un array de números.\n",
    "\n",
    "Algunos modelos usan arrays de tamaño fijo. Esto es un reto en las moléculas debido a sus diferentes números de átomos.\n",
    "\n",
    "Los **Fingerprints** estan diseñados para solucionar este problema. Son **arrays** fijos donde los **diferentes elementos** indican la **presencia de diferentes características** en la molécula. Si dos moléculas tienen un fingerprint similar, indica que contienen el mismo tipo de características y por lo tanto tienen similaridad quimica\n",
    "\n",
    "Para hacer uso de **Fingerprints en DeepChem** tenemos los \"Extended Connectivity Fingerprint\" o **\"ECFP\"**. Tambien se les llama a veces \"circular Fingerprints\". El **algoritmo ECFP** comienza **clasificando los átomos** basandose solo en sus **propiedades directas y enlaces.** Por ejemplo, un carbono unido a dos hidrogenos y dos átomos pesados sería una característica (feature). **Ira identificando las nuevas estructuras mediante niveles de características (en circulos).** Esto se realiza un número fijo de iteraciones y cada **círculo será una columna en nuestro array** y **las filas representaran en número de características en ese círculo.** Se ve muy bien en la imagen de abajo"
   ]
  },
  {
   "attachments": {
    "image.png": {
     "image/png": "[encoded data removed]"
    }
   },
   "cell_type": "markdown",
   "id": "02c09b06",
   "metadata": {},
   "source": [
    "![image.png](attachment:image.png)"
   ]
  },
  {
   "cell_type": "markdown",
   "id": "d2da2065",
   "metadata": {},
   "source": [
    "Veamos un dataset que ha sido featurizado con ECFP"
   ]
  },
  {
   "cell_type": "code",
   "execution_count": 102,
   "id": "955d4ced",
   "metadata": {},
   "outputs": [
    {
     "name": "stdout",
     "output_type": "stream",
     "text": [
      "<DiskDataset X.shape: (6264, 1024), y.shape: (6264, 12), w.shape: (6264, 12), task_names: ['NR-AR' 'NR-AR-LBD' 'NR-AhR' ... 'SR-HSE' 'SR-MMP' 'SR-p53']>\n"
     ]
    }
   ],
   "source": [
    "tasks, datasets, transformers = dc.molnet.load_tox21(featurizer='ECFP')\n",
    "train_dataset, valid_dataset, test_dataset = datasets\n",
    "print(train_dataset)"
   ]
  },
  {
   "cell_type": "markdown",
   "id": "377325a9",
   "metadata": {},
   "source": [
    "Podemos ver como tiene un **shape de X de (6264, 1024)**. Esto quiere decir que hay **6264 muestras** en el conjunto de entrenamiento. Cada una representada por un **fingerprint de 1024** (tamaño fijo). Tambien fijarnos que el **array y tiene (6264, 12)**, por lo que es un **dataset multitarea. 12 propiedades fueron usadas para la toxicidad de las moléculas.**"
   ]
  },
  {
   "cell_type": "code",
   "execution_count": 3,
   "id": "0380e7f4",
   "metadata": {},
   "outputs": [
    {
     "data": {
      "text/plain": [
       "array([[1.04502242, 1.03632599, 1.12502653, ..., 1.05576503, 1.17464996,\n",
       "        1.05288369],\n",
       "       [1.04502242, 1.03632599, 1.12502653, ..., 1.05576503, 1.17464996,\n",
       "        1.05288369],\n",
       "       [1.04502242, 1.03632599, 1.12502653, ..., 1.05576503, 0.        ,\n",
       "        1.05288369],\n",
       "       ...,\n",
       "       [1.04502242, 0.        , 1.12502653, ..., 1.05576503, 6.7257384 ,\n",
       "        1.05288369],\n",
       "       [1.04502242, 1.03632599, 1.12502653, ..., 1.05576503, 6.7257384 ,\n",
       "        1.05288369],\n",
       "       [1.04502242, 1.03632599, 1.12502653, ..., 0.        , 1.17464996,\n",
       "        1.05288369]])"
      ]
     },
     "execution_count": 3,
     "metadata": {},
     "output_type": "execute_result"
    }
   ],
   "source": [
    "train_dataset.w"
   ]
  },
  {
   "cell_type": "markdown",
   "id": "2c91f9fe",
   "metadata": {},
   "source": [
    "Nos podemos fijar que algunos pesos tienen un valor 0. Esto se usa para representar los missing values (ya que un peso de 0 hace que el algoritmo lo ignore)."
   ]
  },
  {
   "cell_type": "markdown",
   "id": "c3c02fa7",
   "metadata": {},
   "source": [
    "La mayoría de los otros pesos tienen valores cercanos a 1, pero no exactamente 1. Esto se realiza con el propósito de equilibrar el peso global de las muestras positivas y negativas en cada tarea. Durante el entrenamiento del modelo, se busca que cada una de las 12 tareas contribuya de manera equitativa, y en cada tarea se asigna igual importancia a las muestras positivas y negativas. De lo contrario, el modelo podría aprender que la mayoría de las muestras de entrenamiento son no tóxicas y, por lo tanto, sesgar sus predicciones hacia la clasificación de otras moléculas como no tóxicas.\n"
   ]
  },
  {
   "cell_type": "markdown",
   "id": "d85553c9",
   "metadata": {},
   "source": [
    "## Entrenamiento de un modelo con Fingerprints"
   ]
  },
  {
   "cell_type": "markdown",
   "id": "7a361858",
   "metadata": {},
   "source": [
    "Vamos a entrenar un MultitaskClassifier que es una simple pila de capas conectadas entre si. En este ejemplo usaremos una única capa oculta de tamaño 1000. Tambien le indicamos que el input tendrá 1024 características y que debe producir 12 predicciones para las diferentes tareas.\n",
    "\n",
    "Podriamos entrenar un modelo para cada tarea, pero normalmente da mejores resultados entrenar un modelo único."
   ]
  },
  {
   "cell_type": "code",
   "execution_count": 99,
   "id": "648016ac",
   "metadata": {},
   "outputs": [],
   "source": [
    "model = dc.models.MultitaskClassifier(n_tasks=12, n_features=1024, layer_sizes=[1000])"
   ]
  },
  {
   "cell_type": "markdown",
   "id": "ae3e12ce",
   "metadata": {},
   "source": [
    "Entrenaremos y evaluaremos el modelo:"
   ]
  },
  {
   "cell_type": "code",
   "execution_count": 46,
   "id": "dda58926",
   "metadata": {},
   "outputs": [
    {
     "name": "stdout",
     "output_type": "stream",
     "text": [
      "training set score: {'roc_auc_score': 0.9578216192603528}\n",
      "test set score: {'roc_auc_score': 0.6841718576680565}\n"
     ]
    }
   ],
   "source": [
    "import numpy as np\n",
    "\n",
    "model.fit(train_dataset, nb_epoch=10)\n",
    "metric = dc.metrics.Metric(dc.metrics.roc_auc_score)\n",
    "print('training set score:', model.evaluate(train_dataset, [metric], transformers))\n",
    "print('test set score:', model.evaluate(test_dataset, [metric], transformers))"
   ]
  },
  {
   "cell_type": "markdown",
   "id": "1318df93",
   "metadata": {},
   "source": [
    "Obtenemos un rendimiento decente teniendo en cuenta que tenemos un modelo y una featurizacion bastante simple"
   ]
  },
  {
   "cell_type": "markdown",
   "id": "5edc214a",
   "metadata": {},
   "source": [
    "**NOTA:** el ROC/AUC es una métrica que evalúa la capacidad de un modelo de clasificación para discriminar entre clases positivas y negativas y se utiliza para comparar el rendimiento de diferentes modelos en problemas de clasificación binaria. Un valor más alto de ROC AUC generalmente indica un mejor rendimiento del modelo."
   ]
  }
 ],
 "metadata": {
  "kernelspec": {
   "display_name": "Python 3 (ipykernel)",
   "language": "python",
   "name": "python3"
  },
  "language_info": {
   "codemirror_mode": {
    "name": "ipython",
    "version": 3
   },
   "file_extension": ".py",
   "mimetype": "text/x-python",
   "name": "python",
   "nbconvert_exporter": "python",
   "pygments_lexer": "ipython3",
   "version": "3.8.3"
  }
 },
 "nbformat": 4,
 "nbformat_minor": 5
}
