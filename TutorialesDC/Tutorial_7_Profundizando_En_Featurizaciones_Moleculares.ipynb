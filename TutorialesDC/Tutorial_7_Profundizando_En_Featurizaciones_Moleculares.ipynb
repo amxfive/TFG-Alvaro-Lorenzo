{
 "cells": [
  {
   "cell_type": "markdown",
   "id": "7f18507d",
   "metadata": {},
   "source": [
    "# Profundizando en Molecular Featurizations"
   ]
  },
  {
   "cell_type": "code",
   "execution_count": 5,
   "id": "3c9ad39f",
   "metadata": {},
   "outputs": [
    {
     "data": {
      "text/plain": [
       "'2.7.1'"
      ]
     },
     "execution_count": 5,
     "metadata": {},
     "output_type": "execute_result"
    }
   ],
   "source": [
    "import deepchem as dc\n",
    "deepchem.__version__"
   ]
  },
  {
   "cell_type": "markdown",
   "id": "9bf3cb23",
   "metadata": {},
   "source": [
    "Uno de los pasos más importantes para realizar el aprendizaje automático en datos moleculares es transformar los datos en una forma adecuada para la aplicación de algoritmos de aprendizaje. Este proceso se denomina ampliamente \"featurización\" e implica convertir una molécula en un vector o tensor de algún tipo. Existen varias formas diferentes de hacerlo, y la elección de la featurización a menudo depende del problema en cuestión. Ya hemos visto dos de estos métodos: las huellas moleculares y los objetos ConvMol para su uso con convoluciones en grafos. En este tutorial, examinaremos algunos de los otros métodos disponibles.\n"
   ]
  },
  {
   "cell_type": "markdown",
   "id": "f8b333f1",
   "metadata": {},
   "source": [
    "# Featurizers"
   ]
  },
  {
   "cell_type": "markdown",
   "id": "387fded9",
   "metadata": {},
   "source": [
    "En DC, un método de featurizar una molécula (o cualquier tipo de input) es definidir un **Featurizer Object**. Hay tres formas diferentes de usar los featurizers\n",
    "* Cuando usamos los loaders de MoleculeNet, pasamos el nombre de featurización al método. Por ejemplo, **featurizer = 'ECFP'**\n",
    "* Puedes crear un Featurizer y aplicarlo directamente a moléculas. Se verá un ejemplo en el código siguiente\n",
    "* Cuando creas un nuevo dataset con el DataLoader framework, puedes especificar un Featurizer para procesar los datos."
   ]
  },
  {
   "cell_type": "code",
   "execution_count": 6,
   "id": "f1eb1487",
   "metadata": {},
   "outputs": [
    {
     "name": "stdout",
     "output_type": "stream",
     "text": [
      "[[0. 0. 0. ... 0. 0. 0.]\n",
      " [0. 0. 0. ... 0. 0. 0.]\n",
      " [0. 0. 0. ... 0. 0. 0.]]\n"
     ]
    }
   ],
   "source": [
    "'''\n",
    "En este código lo que hacemos es crear un objeto de tipo \n",
    "Featurizer y aplicarselo a distintas moléculas representadas\n",
    "mediante SMILES string\n",
    "'''\n",
    "\n",
    "featurizer = dc.feat.CircularFingerprint()\n",
    "print(featurizer(['CC', 'CCC', 'CCO']))"
   ]
  },
  {
   "cell_type": "markdown",
   "id": "870e6de8",
   "metadata": {},
   "source": [
    "En los siguientes ejemplos, usaremos el propano (CH3CH2CH3, representado por SMILES string como 'CCC')\n",
    "\n",
    "Algunas técnicas de featurización utilizan información de múltiples conformaciones de una molécula para capturar de manera más completa su comportamiento químico y físico. Esto es particularmente importante para compuestos que pueden cambiar de forma o tener múltiples estados conformacionales. Esto es lo que se le conoce como \"conformers\" o conformaciones. \n",
    "\n",
    "Una conformación puede ser generada usando la clase en `ConformerGenerator` en `deepchem.utils.conformers`"
   ]
  },
  {
   "cell_type": "markdown",
   "id": "615fbb70",
   "metadata": {},
   "source": [
    "## RDKitDescriptors"
   ]
  },
  {
   "cell_type": "markdown",
   "id": "9c5e6118",
   "metadata": {},
   "source": [
    "**RDKitDescriptors** featuriza una molécula utilizando RDKit para calcular **valores** para una **lista de descriptores.** Estos **descriptores** son **propiedades físicas y químicas básicas**, como el **peso molecular, el área superficial polar, el número de donantes y aceptores de enlaces de hidrógeno,** entre otros. Esto resulta más **útil** para **predecir cosas** que **dependen** de **estas propiedades de alto nivel en lugar de la estructura molecular detallada.**\n",
    "\n",
    "Inherente al featurizador se encuentra un conjunto de descriptores permitidos, que se pueden acceder mediante **RDKitDescriptors.allowedDescriptors**. El featurizador utiliza los descriptores en **rdkit.Chem.Descriptors.descList**, verifica si están en la lista de descriptores permitidos y calcula el valor del descriptor para la molécula.\n",
    "\n",
    "A continuación, imprimiremos los valores de los primeros diez descriptores para el propano.\n"
   ]
  },
  {
   "cell_type": "code",
   "execution_count": 14,
   "id": "3508ef3f",
   "metadata": {},
   "outputs": [
    {
     "name": "stdout",
     "output_type": "stream",
     "text": [
      "MaxAbsEStateIndex 2.125\n",
      "MaxEStateIndex 2.125\n",
      "MinAbsEStateIndex 1.25\n",
      "MinEStateIndex 1.25\n",
      "qed 0.3854706587740357\n",
      "MolWt 44.097\n",
      "HeavyAtomMolWt 36.033\n",
      "ExactMolWt 44.062600255999996\n",
      "NumValenceElectrons 20.0\n",
      "NumRadicalElectrons 0.0\n"
     ]
    },
    {
     "data": {
      "text/plain": [
       "209"
      ]
     },
     "execution_count": 14,
     "metadata": {},
     "output_type": "execute_result"
    }
   ],
   "source": [
    "rdkit_featurizer = dc.feat.RDKitDescriptors() #Creamos el featurizer\n",
    "features = rdkit_featurizer(['CCC'])[0] #Lo aplicamos al propano\n",
    "\n",
    "#Imprimimos las 10 primeras carácterísticas y su valor\n",
    "for feature, descriptor in zip(features[:10], rdkit_featurizer.descriptors):\n",
    "    print(descriptor, feature)"
   ]
  },
  {
   "cell_type": "code",
   "execution_count": 16,
   "id": "ab4ab099",
   "metadata": {},
   "outputs": [
    {
     "name": "stdout",
     "output_type": "stream",
     "text": [
      "The number of descriptors present is:  209\n"
     ]
    }
   ],
   "source": [
    "#Número total de descriptores del propano\n",
    "print('The number of descriptors present is: ', len(features))"
   ]
  },
  {
   "cell_type": "markdown",
   "id": "60fd1b25",
   "metadata": {},
   "source": [
    "## WeaveFeaturizer and MolGraphConvFeaturizer"
   ]
  },
  {
   "cell_type": "markdown",
   "id": "416e632c",
   "metadata": {},
   "source": [
    "Anteriormente, examinamos las convoluciones en grafos, que utilizan **ConvMolFeaturizer** para convertir moléculas en objetos ConvMol. Las convoluciones en grafos son un caso especial de una amplia clase de arquitecturas que representan las moléculas como grafos. Funcionan de manera similar pero varían en los detalles. Por ejemplo, pueden asociar vectores de datos con los átomos, los enlaces que los conectan o ambos. Pueden utilizar una variedad de técnicas para calcular nuevos vectores de datos a partir de los de la capa anterior y una variedad de técnicas para calcular propiedades a nivel de molécula al final.\n",
    "\n",
    "DeepChem admite muchos modelos basados en grafos diferentes. Algunos de ellos requieren que las moléculas se featuricen de manera ligeramente diferente. Debido a esto, existen otros dos featurizers llamados **WeaveFeaturizer** y **MolGraphConvFeaturizer**. Cada uno de ellos convierte las moléculas en un tipo diferente de objeto Python que se utiliza en modelos particulares. Al usar cualquier modelo basado en grafos, simplemente consulta la documentación para ver qué featurizer debes utilizar con él.\n"
   ]
  },
  {
   "cell_type": "markdown",
   "id": "4b459637",
   "metadata": {},
   "source": [
    "## CoulombMatrix"
   ]
  },
  {
   "cell_type": "markdown",
   "id": "eacaf7ec",
   "metadata": {},
   "source": [
    "Hasta ahora, todos los modelos que hemos analizado consideran solo las propiedades intrínsecas de una molécula: la lista de átomos que la componen y los enlaces que los conectan. Al trabajar con moléculas flexibles, es posible que también desees tener en cuenta las diferentes conformaciones que la molécula puede asumir. Por ejemplo, cuando una molécula de fármaco se une a una proteína, la fuerza de la unión depende de interacciones específicas entre pares de átomos. Para **predecir la fuerza de unión, probablemente desees considerar una variedad de posibles conformaciones y utilizar un modelo que las tenga en cuenta al realizar predicciones.**\n",
    "\n",
    "La **matriz de Coulomb** es una popular featurización para conformaciones moleculares. Recordemos que la interacción electrostática de Coulomb entre dos cargas es proporcional a  \n",
    "q1q2/r donde q1 y q2 son las cargas y r es la distancia entre ellas. Para una molécula con N átomos, la matriz de Coulomb es una matriz de N×N en la que cada elemento **proporciona la intensidad de la interacción electrostática entre dos átomos.** Contiene información tanto sobre las cargas en los átomos como sobre las distancias entre ellos. Puedes encontrar más información sobre las formas funcionales utilizadas https://journals.aps.org/prl/pdf/10.1103/PhysRevLett.108.058301\n",
    "\n",
    "Para aplicar este featurizador, primero necesitamos un conjunto de conformaciones para la molécula. Podemos utilizar la clase **ConformerGenerator** para hacerlo. Toma una molécula RDKit, genera un conjunto de conformaciones minimizadas en energía y elimina aquellas que sean significativamente diferentes entre sí. Vamos a intentar ejecutarlo para el propano.\n"
   ]
  },
  {
   "cell_type": "code",
   "execution_count": 17,
   "id": "8bd459c4",
   "metadata": {},
   "outputs": [
    {
     "name": "stdout",
     "output_type": "stream",
     "text": [
      "Number of available conformers for propane:  1\n"
     ]
    }
   ],
   "source": [
    "from rdkit import Chem\n",
    "\n",
    "#Creamos en generador de conformaciones\n",
    "generator = dc.utils.ConformerGenerator(max_conformers=5)\n",
    "#Obtenemos las primeras 5 conformaciones aplicando el generador al propano\n",
    "propane_mol = generator.generate_conformers(Chem.MolFromSmiles('CCC'))\n",
    "#Imprimimos el número de conformaciones disponibles\n",
    "print(\"Number of available conformers for propane: \", len(propane_mol.GetConformers()))"
   ]
  },
  {
   "cell_type": "markdown",
   "id": "f0234c49",
   "metadata": {},
   "source": [
    "Solo encuentra una conformación disponible debido  ala simplicidad del propano. Es una molécula pequeña con poca flexibilidad. Probemos añadiendo otro carbono (el butano)"
   ]
  },
  {
   "cell_type": "code",
   "execution_count": 18,
   "id": "15d514e3",
   "metadata": {},
   "outputs": [
    {
     "name": "stdout",
     "output_type": "stream",
     "text": [
      "Number of available conformers for butane:  3\n"
     ]
    }
   ],
   "source": [
    "butane_mol = generator.generate_conformers(Chem.MolFromSmiles('CCCC'))\n",
    "print(\"Number of available conformers for butane: \", len(butane_mol.GetConformers()))"
   ]
  },
  {
   "cell_type": "markdown",
   "id": "96e1400e",
   "metadata": {},
   "source": [
    "Creemos ahora la Coulomb Matrix para la molécula"
   ]
  },
  {
   "cell_type": "code",
   "execution_count": 88,
   "id": "aee161be",
   "metadata": {},
   "outputs": [
    {
     "name": "stdout",
     "output_type": "stream",
     "text": [
      "[[[36.8581052  12.48684429  7.5619687   2.85945193  2.85804514\n",
      "    2.85804556  1.4674015   1.46740144  0.91279491  1.14239698\n",
      "    1.14239675]\n",
      "  [12.48684429 36.8581052  12.48684388  1.46551218  1.45850736\n",
      "    1.45850732  2.85689525  2.85689538  1.4655122   1.4585072\n",
      "    1.4585072 ]\n",
      "  [ 7.5619687  12.48684388 36.8581052   0.9127949   1.14239695\n",
      "    1.14239692  1.46740146  1.46740145  2.85945178  2.85804504\n",
      "    2.85804493]\n",
      "  [ 2.85945193  1.46551218  0.9127949   0.5         0.29325367\n",
      "    0.29325369  0.21256978  0.21256978  0.12268391  0.13960187\n",
      "    0.13960185]\n",
      "  [ 2.85804514  1.45850736  1.14239695  0.29325367  0.5\n",
      "    0.29200271  0.17113413  0.21092513  0.13960186  0.1680002\n",
      "    0.20540029]\n",
      "  [ 2.85804556  1.45850732  1.14239692  0.29325369  0.29200271\n",
      "    0.5         0.21092513  0.17113413  0.13960187  0.20540032\n",
      "    0.16800016]\n",
      "  [ 1.4674015   2.85689525  1.46740146  0.21256978  0.17113413\n",
      "    0.21092513  0.5         0.29351308  0.21256981  0.2109251\n",
      "    0.17113412]\n",
      "  [ 1.46740144  2.85689538  1.46740145  0.21256978  0.21092513\n",
      "    0.17113413  0.29351308  0.5         0.21256977  0.17113412\n",
      "    0.21092513]\n",
      "  [ 0.91279491  1.4655122   2.85945178  0.12268391  0.13960186\n",
      "    0.13960187  0.21256981  0.21256977  0.5         0.29325366\n",
      "    0.29325365]\n",
      "  [ 1.14239698  1.4585072   2.85804504  0.13960187  0.1680002\n",
      "    0.20540032  0.2109251   0.17113412  0.29325366  0.5\n",
      "    0.29200266]\n",
      "  [ 1.14239675  1.4585072   2.85804493  0.13960185  0.20540029\n",
      "    0.16800016  0.17113412  0.21092513  0.29325365  0.29200266\n",
      "    0.5       ]]]\n",
      " \n",
      "Interacciones electrostáticas con el átomo 2\n",
      "[ 7.5619687  12.48684388 36.8581052   0.9127949   1.14239695  1.14239692\n",
      "  1.46740146  1.46740145  2.85945178  2.85804504  2.85804493]\n"
     ]
    }
   ],
   "source": [
    "'''\n",
    "Esto lo que nos devuelve es por cada átomo la interacción electrostática\n",
    "entre el resto de átomos que componen la molécula.\n",
    "Si accedemos a features[0][2] obtendremos las interacciones electrostáticas\n",
    "del segundo átomo con el resto de átomos\n",
    "'''\n",
    "coulomb_mat = dc.feat.CoulombMatrix(max_atoms=11)\n",
    "features = coulomb_mat(propane_mol)\n",
    "print(features)\n",
    "print(\" \")\n",
    "print(\"Interacciones electrostáticas con el átomo 2\")\n",
    "print(features[0][2])\n",
    "\n"
   ]
  },
  {
   "cell_type": "markdown",
   "id": "a81e9307",
   "metadata": {},
   "source": [
    "Observa que muchos elementos son 0. Para combinar múltiples moléculas en un lote, necesitamos que todas las matrices de Coulomb tengan el mismo tamaño, incluso si las moléculas tienen diferentes números de átomos. Especificamos `max_atoms=20`, por lo que la matriz devuelta tiene un tamaño de (20, 20). Sin embargo, la molécula solo tiene 11 átomos, por lo que solo una submatriz de 11 por 11 no es nula.\n"
   ]
  },
  {
   "cell_type": "markdown",
   "id": "17ddcc29",
   "metadata": {},
   "source": [
    "## CoulombMatrixEig"
   ]
  },
  {
   "cell_type": "markdown",
   "id": "496bd60d",
   "metadata": {},
   "source": [
    "Una característica importante de las **matrices de Coulomb** es que **son invariantes a la rotación y la traslación molecular**, ya que las distancias interatómicas y los números atómicos no cambian. **Respetar simetrías como esta facilita el aprendizaje.** Rotar una molécula no cambia sus propiedades físicas. Si la featurización cambia con la rotación, entonces el modelo debe aprender que las rotaciones no son importantes, pero si la featurización es invariante, el modelo adquiere esta propiedad automáticamente.\n",
    "\n",
    "Sin embargo, **las matrices de Coulomb no son invariantes bajo** otra simetría importante: **permutaciones de los índices de los átomos.** Las **propiedades físicas de una molécula no dependen de cuál llamemos \"átomo 1\", pero la matriz de Coulomb sí lo hace.** Para abordar esto, se introdujo el featurizador **CoulombMatrixEig**, que utiliza el espectro de autovalores de la matriz de Coulomb y es invariante a permutaciones aleatorias de los índices de los átomos. La desventaja de esta featurización es que contiene mucha menos información (autovalores en lugar de una matriz  \n",
    "N\n",
    "×\n",
    "N\n",
    " ), por lo que los modelos estarán más limitados en lo que pueden aprender.\n",
    "\n",
    "**CoulombMatrixEig** hereda de **CoulombMatrix** y realiza la featurización de una molécula calculando primero las matrices de Coulomb para diferentes conformaciones de la molécula y luego calculando los autovalores para cada matriz de Coulomb. Estos autovalores se ajustan para tener en cuenta la variación en el número de átomos entre las moléculas.\n"
   ]
  },
  {
   "cell_type": "code",
   "execution_count": 89,
   "id": "fc32c0a0",
   "metadata": {},
   "outputs": [
    {
     "name": "stdout",
     "output_type": "stream",
     "text": [
      "[[60.07620303 29.62963149 22.75497781  0.5713786   0.28781332  0.28548338\n",
      "   0.27558187  0.18163794  0.17460999  0.17059719  0.16640098]]\n"
     ]
    }
   ],
   "source": [
    "coulomb_mat_eig = dc.feat.CoulombMatrixEig(max_atoms=11)\n",
    "features = coulomb_mat_eig(propane_mol)\n",
    "print(features)"
   ]
  }
 ],
 "metadata": {
  "kernelspec": {
   "display_name": "Python 3 (ipykernel)",
   "language": "python",
   "name": "python3"
  },
  "language_info": {
   "codemirror_mode": {
    "name": "ipython",
    "version": 3
   },
   "file_extension": ".py",
   "mimetype": "text/x-python",
   "name": "python",
   "nbconvert_exporter": "python",
   "pygments_lexer": "ipython3",
   "version": "3.8.3"
  }
 },
 "nbformat": 4,
 "nbformat_minor": 5
}
