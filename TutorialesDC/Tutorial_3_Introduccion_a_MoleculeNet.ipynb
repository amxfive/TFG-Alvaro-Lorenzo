{
 "cells": [
  {
   "cell_type": "markdown",
   "id": "d260eb50",
   "metadata": {},
   "source": [
    "# Introducción a MoleculeNet"
   ]
  },
  {
   "cell_type": "markdown",
   "id": "ade85e62",
   "metadata": {},
   "source": [
    "Una de las características más poderosas de DeepChem es que viene \"con baterías incluidas\" con conjuntos de datos listos para usar. La comunidad de desarrolladores de DeepChem mantiene el conjuntos de datos MoleculeNet [1], que cuenta con una gran colección de diversos conjuntos de datos científicos para su uso en aplicaciones de aprendizaje automático.\n",
    "\n",
    "Estos conjuntos de datos están integrados en el resto de la suite de DeepChem, por lo que puedes acceder a ellos de manera conveniente a través de funciones en el **submódulo dc.molnet**. Podemos ver los distintos datasets de MolecularNet en [2].\n",
    "\n",
    "[1] Wu, Zhenqin, et al. \"MoleculeNet: un punto de referencia para el aprendizaje automático molecular.\" Chemical science 9.2 (2018): 513-530.\n",
    "\n",
    "[2] https://deepchem.readthedocs.io/en/latest/moleculenet.html"
   ]
  },
  {
   "cell_type": "code",
   "execution_count": 1,
   "id": "22dcab74",
   "metadata": {},
   "outputs": [
    {
     "name": "stderr",
     "output_type": "stream",
     "text": [
      "Skipped loading modules with pytorch-geometric dependency, missing a dependency. No module named 'torch_geometric'\n",
      "Skipped loading modules with pytorch-geometric dependency, missing a dependency. cannot import name 'DMPNN' from 'deepchem.models.torch_models' (C:\\Users\\alloh\\Miniconda3\\lib\\site-packages\\deepchem\\models\\torch_models\\__init__.py)\n",
      "Skipped loading modules with pytorch-lightning dependency, missing a dependency. No module named 'pytorch_lightning'\n",
      "Skipped loading some Jax models, missing a dependency. No module named 'jax'\n"
     ]
    },
    {
     "data": {
      "text/plain": [
       "'2.7.1'"
      ]
     },
     "execution_count": 1,
     "metadata": {},
     "output_type": "execute_result"
    }
   ],
   "source": [
    "import deepchem as dc\n",
    "dc.__version__"
   ]
  },
  {
   "cell_type": "markdown",
   "id": "3a8fef12",
   "metadata": {},
   "source": [
    "En los dos tutoriales anteriores, cargamos el dataset de la solubilidad de distintas moléculas:"
   ]
  },
  {
   "cell_type": "code",
   "execution_count": 2,
   "id": "47eb862c",
   "metadata": {},
   "outputs": [],
   "source": [
    "tasks, datasets, transformers = dc.molnet.load_delaney(featurizer='GraphConv', splitter='random')\n"
   ]
  },
  {
   "cell_type": "markdown",
   "id": "9f0cbf10",
   "metadata": {},
   "source": [
    "La función loader que invocamos en dc.molnet.load_delaney se encuentra dentro del submodulo de los loaders de MoleculeNet. Veamos la colección completa de estos:"
   ]
  },
  {
   "cell_type": "code",
   "execution_count": 3,
   "id": "9c4bc489",
   "metadata": {},
   "outputs": [
    {
     "data": {
      "text/plain": [
       "['load_Platinum_Adsorption',\n",
       " 'load_bace_classification',\n",
       " 'load_bace_regression',\n",
       " 'load_bandgap',\n",
       " 'load_bbbc001',\n",
       " 'load_bbbc002',\n",
       " 'load_bbbp',\n",
       " 'load_cell_counting',\n",
       " 'load_chembl',\n",
       " 'load_chembl25',\n",
       " 'load_clearance',\n",
       " 'load_clintox',\n",
       " 'load_delaney',\n",
       " 'load_factors',\n",
       " 'load_freesolv',\n",
       " 'load_function',\n",
       " 'load_hiv',\n",
       " 'load_hopv',\n",
       " 'load_hppb',\n",
       " 'load_kaggle',\n",
       " 'load_kinase',\n",
       " 'load_lipo',\n",
       " 'load_mp_formation_energy',\n",
       " 'load_mp_metallicity',\n",
       " 'load_muv',\n",
       " 'load_nci',\n",
       " 'load_pcba',\n",
       " 'load_pdbbind',\n",
       " 'load_perovskite',\n",
       " 'load_ppb',\n",
       " 'load_qm7',\n",
       " 'load_qm8',\n",
       " 'load_qm9',\n",
       " 'load_sampl',\n",
       " 'load_sider',\n",
       " 'load_sweet',\n",
       " 'load_thermosol',\n",
       " 'load_tox21',\n",
       " 'load_toxcast',\n",
       " 'load_uspto',\n",
       " 'load_uv',\n",
       " 'load_zinc15']"
      ]
     },
     "execution_count": 3,
     "metadata": {},
     "output_type": "execute_result"
    }
   ],
   "source": [
    "[method for method in dir(dc.molnet) if \"load_\" in method ]"
   ]
  },
  {
   "cell_type": "markdown",
   "id": "94f0b542",
   "metadata": {},
   "source": [
    "Podemos ver el total de datasets que tenemos actualmente aqui"
   ]
  },
  {
   "cell_type": "code",
   "execution_count": 4,
   "id": "a2c2c4aa",
   "metadata": {},
   "outputs": [
    {
     "data": {
      "text/plain": [
       "42"
      ]
     },
     "execution_count": 4,
     "metadata": {},
     "output_type": "execute_result"
    }
   ],
   "source": [
    "len([method for method in dir(dc.molnet) if \"load_\" in method ])"
   ]
  },
  {
   "cell_type": "markdown",
   "id": "a12a1194",
   "metadata": {},
   "source": [
    "## Categorias de los datasets en MoleculeNet"
   ]
  },
  {
   "cell_type": "markdown",
   "id": "ba6d661b",
   "metadata": {},
   "source": [
    "Vamos a separar los distintos datasets dentro de MoleculeNet en categorias. Más detalles sobre estos en: https://deepchem.readthedocs.io/en/latest/moleculenet.html\n",
    "\n",
    "Los datasets que recoge el paper [1] son los denominados V1 y los que se añadieron más adelante a la publicación del paper los llamaremos V2"
   ]
  },
  {
   "cell_type": "markdown",
   "id": "0de1b384",
   "metadata": {},
   "source": [
    "### Datasets de mecánica cuántica"
   ]
  },
  {
   "cell_type": "markdown",
   "id": "3df8663f",
   "metadata": {},
   "source": [
    "### Quantum Mechanical Datasets\n",
    "Estos datasets contienen varias propiedades cuánticas para tareas de predicción\n",
    "- **QM7**: Cargado con `dc.molnet.load_qm7` (V1)\n",
    "- **QM7b**: Cargado con `dc.molnet.load_qm7b_from_mat` (V1)\n",
    "- **QM8**: Cargado con `dc.molnet.load_qm8` (V1)\n",
    "- **QM9**: Cargado con `dc.molnet.load_qm9` (V1)\n",
    "\n",
    "### Physical Chemistry Datasets\n",
    "Estos datasets sirven para predecir las propiedades físicas de las moléculas.\n",
    "- **Delaney (ESOL)**: Cargado con `dc.molnet.load_delaney` (V1)\n",
    "- **SAMPL (FreeSolv)**: Cargado con `dc.molnet.load_sampl` (V1)\n",
    "- **Lipo (Lipophilicity)**: Cargado con `dc.molnet.load_lipo` (V1)\n",
    "- **Thermosol**: Cargado con `dc.molnet.load_thermosol` (V2)\n",
    "- **HPPB**: Cargado con `dc.molnet.load_hppb` (V2)\n",
    "- **HOPV**: Cargado con `dc.molnet.load_hopv` (V2)\n",
    "\n",
    "### Chemical Reaction Datasets\n",
    "Aquellos datasets que mantienen reacciones químicas\n",
    "- **USPTO**: Cargado con `dc.molnet.load_uspto`\n",
    "\n",
    "### Biochemical/Biophysical Datasets\n",
    "Aquellos datasets relacionados con datasets bioquimicos/biofisicos que miden cosas como la afinidad de determinados componentes a proteinas\n",
    "- **PCBA**: Cargado con `dc.molnet.load_pcba` (V1)\n",
    "- **NCI**: Cargado con `dc.molnet.load_nci` (V2)\n",
    "- **MUV**: Cargado con `dc.molnet.load_muv` (V1)\n",
    "- **HIV**: Cargado con `dc.molnet.load_hiv` (V1)\n",
    "- **PPB**: Cargado con `dc.molnet.load_ppb` (V2)\n",
    "- **BACE Classification**: Cargado con `dc.molnet.load_bace_classification` (V1)\n",
    "- **BACE Regression**: Cargado con `dc.molnet.load_bace_regression` (V1)\n",
    "- **Kaggle**: Cargado con `dc.molnet.load_kaggle` (V2)\n",
    "- **Factors**: Cargado con `dc.molnet.load_factors` (V2)\n",
    "- **UV**: Cargado con `dc.molnet.load_uv` (V2)\n",
    "- **Kinase**: Cargado con `dc.molnet.load_kinase` (V2)\n",
    "\n",
    "### Molecular Catalog Datasets\n",
    "Estos datasets proporcionan datasets moleculares que no tienen asociado propiedades más allá de su fórmula SMILES o estructura. Son muy útiles para las tareas de modelos generativos\n",
    "- **ZINC15**: Cargado con `dc.molnet.load_zinc15` (V2)\n",
    "- **ChEMBL**: Cargado con `dc.molnet.load_chembl` (V2)\n",
    "- **ChEMBL25**: Cargado con `dc.molnet.load_chembl25` (V2)\n",
    "\n",
    "### Physiology Datasets\n",
    "Estos datasets miden propiedades fisiológicas de como las moléculas interactuan con los pacientes humanos\n",
    "- **BBBP**: Cargado con `dc.molnet.load_bbbp` (V1)\n",
    "- **TOX21**: Cargado con `dc.molnet.load_tox21` (V1)\n",
    "- **TOXCAST**: Cargado con `dc.molnet.load_toxcast` (V1)\n",
    "- **SIDER**: Cargado con `dc.molnet.load_sider` (V1)\n",
    "- **ClinTox**: Cargado con `dc.molnet.load_clintox` (V1)\n",
    "- **Clearance**: Cargado con `dc.molnet.load_clearance` (V2)\n",
    "\n",
    "### Structural Biology Datasets\n",
    "Estos datasets contienen las estructuras 3D de macromoléculas con sus propiedades asociadas\n",
    "- **PDBbind**: Cargado con `dc.molnet.load_pdbbind` (V1)\n",
    "\n",
    "### Microscopy Datasets\n",
    "Estos datasets contienen imagenes de microscopía, tipicamente de lineas celulares\n",
    "- **BBBC001**: Cargado con `dc.molnet.load_bbbc001` (V2)\n",
    "- **BBBC002**: Cargado con `dc.molnet.load_bbbc002` (V2)\n",
    "- **Cell Counting**: Cargado con `dc.molnet.load_cell_counting` (V2)\n",
    "\n",
    "### Materials Properties Datasets\n",
    "Computan propiedades de distintos materiales\n",
    "- **Bandgap**: Cargado con `dc.molnet.load_bandgap` (V2)\n",
    "- **Perovskite**: Cargado con `dc.molnet.load_perovskite` (V2)\n",
    "- **MP Formation Energy**: Cargado con `dc.molnet.load_mp_formation_energy` (V2)\n",
    "- **MP Metallicity**: Cargado con `dc.molnet.load_mp_metallicity` (V2)"
   ]
  },
  {
   "cell_type": "markdown",
   "id": "06b1282d",
   "metadata": {},
   "source": [
    "### Loaders de MoleculeNet"
   ]
  },
  {
   "cell_type": "markdown",
   "id": "78a2b94b",
   "metadata": {},
   "source": [
    "Todas los loader de MoleculeNEt tienen la forma dc.molnet.load_X. La función loader devuelve una tupla de argumentos (tasks, datasets, transformers).\n",
    "\n",
    "- **Tasks:** Es una lista del nombre de las tareas. Muchos datasets en MoleculeNet son multitarea, es decir, un datapoint tiene múltiples etiquetas asociadas como diferentes valores o medidas dentro de ese datapoint\n",
    "\n",
    "- **Datasets:** Este campo es una tupla de tres dc.data.Dataset objects (train, valid, test). Corresponden al entrenamiento, validación y pruebas\n",
    "\n",
    "- **Transformers:** Este campo es una lista de dc.trans.Transformer los cuales fueron aplicados a este dataset durante su procesamiento\n",
    "\n",
    "Veamos todo esto con el dataset de solubilidades que cargamos anteriormente"
   ]
  },
  {
   "cell_type": "code",
   "execution_count": 5,
   "id": "dd883400",
   "metadata": {},
   "outputs": [
    {
     "data": {
      "text/plain": [
       "['measured log solubility in mols per litre']"
      ]
     },
     "execution_count": 5,
     "metadata": {},
     "output_type": "execute_result"
    }
   ],
   "source": [
    "tasks #Tenemos una única tarea que es la logsolubilidad en mol/litro"
   ]
  },
  {
   "cell_type": "code",
   "execution_count": 6,
   "id": "cfac23dd",
   "metadata": {},
   "outputs": [
    {
     "data": {
      "text/plain": [
       "(<DiskDataset X.shape: (902,), y.shape: (902, 1), w.shape: (902, 1), ids: ['CCC(C)CO' 'O=C1N(COC(=O)CCCCCC)C(=O)C(N1)(c2ccccc2)c3ccccc3'\n",
       "  'Clc1ccccc1C2=NCC(=O)Nc3ccc(cc23)N(=O)=O' ... 'ClCBr'\n",
       "  'O=C1NC(=O)C(N1)(c2ccccc2)c3ccccc3'\n",
       "  'CC(=O)OC3CCC4C2CCC1=CC(=O)CCC1(C)C2CCC34C '], task_names: ['measured log solubility in mols per litre']>,\n",
       " <DiskDataset X.shape: (113,), y.shape: (113, 1), w.shape: (113, 1), ids: ['Clc1ccc(cc1)N(=O)=O' 'CCSSCC' 'Nc1ccccc1Cl' ... 'CCCCCC'\n",
       "  'CN2C(=O)CN=C(c1ccccc1)c3cc(ccc23)N(=O)=O' 'Clc1ccccc1c2ccccc2'], task_names: ['measured log solubility in mols per litre']>,\n",
       " <DiskDataset X.shape: (113,), y.shape: (113, 1), w.shape: (113, 1), ids: ['CN(C=Nc1ccc(C)cc1C)C=Nc2ccc(C)cc2C' 'Cc1cccc2c1ccc3ccccc32'\n",
       "  'Oc1ccccc1Cl' ... 'O=c2[nH]c(=O)c1[nH]c(=O)[nH]c1[nH]2 '\n",
       "  'O=C1N(COC(=O)C)C(=O)C(N1)(c2ccccc2)c3ccccc3' 'CCCCC(O)CC'], task_names: ['measured log solubility in mols per litre']>)"
      ]
     },
     "execution_count": 6,
     "metadata": {},
     "output_type": "execute_result"
    }
   ],
   "source": [
    "datasets #Separemos esta tupla de 3 elementos en la siguiente linea"
   ]
  },
  {
   "cell_type": "code",
   "execution_count": 7,
   "id": "421e2fa0",
   "metadata": {},
   "outputs": [],
   "source": [
    "train, valid, test = datasets"
   ]
  },
  {
   "cell_type": "code",
   "execution_count": 8,
   "id": "987ed7a1",
   "metadata": {},
   "outputs": [
    {
     "data": {
      "text/plain": [
       "<DiskDataset X.shape: (902,), y.shape: (902, 1), w.shape: (902, 1), ids: ['CCC(C)CO' 'O=C1N(COC(=O)CCCCCC)C(=O)C(N1)(c2ccccc2)c3ccccc3'\n",
       " 'Clc1ccccc1C2=NCC(=O)Nc3ccc(cc23)N(=O)=O' ... 'ClCBr'\n",
       " 'O=C1NC(=O)C(N1)(c2ccccc2)c3ccccc3'\n",
       " 'CC(=O)OC3CCC4C2CCC1=CC(=O)CCC1(C)C2CCC34C '], task_names: ['measured log solubility in mols per litre']>"
      ]
     },
     "execution_count": 8,
     "metadata": {},
     "output_type": "execute_result"
    }
   ],
   "source": [
    "train"
   ]
  },
  {
   "cell_type": "code",
   "execution_count": 9,
   "id": "6896e599",
   "metadata": {},
   "outputs": [
    {
     "data": {
      "text/plain": [
       "<DiskDataset X.shape: (113,), y.shape: (113, 1), w.shape: (113, 1), ids: ['Clc1ccc(cc1)N(=O)=O' 'CCSSCC' 'Nc1ccccc1Cl' ... 'CCCCCC'\n",
       " 'CN2C(=O)CN=C(c1ccccc1)c3cc(ccc23)N(=O)=O' 'Clc1ccccc1c2ccccc2'], task_names: ['measured log solubility in mols per litre']>"
      ]
     },
     "execution_count": 9,
     "metadata": {},
     "output_type": "execute_result"
    }
   ],
   "source": [
    "valid"
   ]
  },
  {
   "cell_type": "code",
   "execution_count": 10,
   "id": "cd868509",
   "metadata": {},
   "outputs": [
    {
     "data": {
      "text/plain": [
       "<DiskDataset X.shape: (113,), y.shape: (113, 1), w.shape: (113, 1), ids: ['CN(C=Nc1ccc(C)cc1C)C=Nc2ccc(C)cc2C' 'Cc1cccc2c1ccc3ccccc32'\n",
       " 'Oc1ccccc1Cl' ... 'O=c2[nH]c(=O)c1[nH]c(=O)[nH]c1[nH]2 '\n",
       " 'O=C1N(COC(=O)C)C(=O)C(N1)(c2ccccc2)c3ccccc3' 'CCCCC(O)CC'], task_names: ['measured log solubility in mols per litre']>"
      ]
     },
     "execution_count": 10,
     "metadata": {},
     "output_type": "execute_result"
    }
   ],
   "source": [
    "test"
   ]
  },
  {
   "cell_type": "markdown",
   "id": "07662b21",
   "metadata": {},
   "source": [
    "Podemos acceder a un datapoint del conjunto de entrenamiento"
   ]
  },
  {
   "cell_type": "code",
   "execution_count": 12,
   "id": "01716397",
   "metadata": {},
   "outputs": [
    {
     "data": {
      "text/plain": [
       "<deepchem.feat.mol_graphs.ConvMol at 0x11b12b65730>"
      ]
     },
     "execution_count": 12,
     "metadata": {},
     "output_type": "execute_result"
    }
   ],
   "source": [
    "train.X[0] #Objeto tipo dc.feat.ConvMolFeaturizer"
   ]
  },
  {
   "cell_type": "code",
   "execution_count": 14,
   "id": "4191d1e9",
   "metadata": {},
   "outputs": [
    {
     "data": {
      "text/plain": [
       "[<deepchem.trans.transformers.NormalizationTransformer at 0x11b28e843d0>]"
      ]
     },
     "execution_count": 14,
     "metadata": {},
     "output_type": "execute_result"
    }
   ],
   "source": [
    "transformers #Podemos ver que se aplico un\n",
    "             # dc.trans.NormalizationTransformer"
   ]
  },
  {
   "cell_type": "markdown",
   "id": "15878152",
   "metadata": {},
   "source": [
    "# Control de Featurización y División de Conjuntos de Datos\n",
    "\n",
    "Los conjuntos de datos se pueden procesar con diferentes elecciones de featurer. ¿Podemos controlar la elección de la featurización aquí? Además, ¿cómo se dividió el conjunto de datos fuente en conjuntos de entrenamiento, validación y prueba como tres conjuntos de datos diferentes?\n",
    "\n",
    "Puedes utilizar los argumentos de palabras clave 'featurizer' y 'splitter' y pasar diferentes cadenas. Las elecciones comunes para 'featurizer' son:\n",
    "- 'ECFP' para Fingerprint Circular (featurizador `dc.feat.CircularFingerprint`)\n",
    "- 'GraphConv' para ConvMolFeaturizer (featurizador `dc.feat.ConvMolFeaturizer`)\n",
    "- 'Weave' para WeaveFeaturizer (featurizador `dc.feat.WeaveFeaturizer`)\n",
    "- 'smiles2img' para SmilesToImage (featurizador `dc.feat.SmilesToImage`)\n",
    "\n",
    "Las opciones comunes para 'splitter' son \n",
    "- none \n",
    "- index \n",
    "- random\n",
    "- scaffold \n",
    "- stratified\n",
    "\n",
    "Los \"splitters\" son intuitivamente son una forma de dividir un conjunto de datos según diferentes criterios. Hablaremos más sobre esto en futuros tutoriales.\n",
    "\n",
    "Una característica interesante es que, en lugar de utilizar cadenas, puedes pasar objetos Featurizer o Splitter personalizados. Esto es especialmente útil cuando, por ejemplo, un Featurizer tiene argumentos de constructor que puedes usar para personalizar su comportamiento."
   ]
  },
  {
   "cell_type": "code",
   "execution_count": 15,
   "id": "0ae9a85c",
   "metadata": {},
   "outputs": [],
   "source": [
    "tasks, datasets, transformers = dc.molnet.load_delaney(featurizer=\"ECFP\", splitter=\"scaffold\")"
   ]
  },
  {
   "cell_type": "code",
   "execution_count": 16,
   "id": "11fce5ec",
   "metadata": {},
   "outputs": [],
   "source": [
    "(train, valid, test) = datasets"
   ]
  },
  {
   "cell_type": "code",
   "execution_count": 17,
   "id": "33c27b52",
   "metadata": {},
   "outputs": [
    {
     "data": {
      "text/plain": [
       "<DiskDataset X.shape: (902, 1024), y.shape: (902, 1), w.shape: (902, 1), ids: ['CC(C)=CCCC(C)=CC(=O)' 'CCCC=C' 'CCCCCCCCCCCCCC' ...\n",
       " 'Nc2cccc3nc1ccccc1cc23 ' 'C1CCCCCC1' 'OC1CCCCCC1'], task_names: ['measured log solubility in mols per litre']>"
      ]
     },
     "execution_count": 17,
     "metadata": {},
     "output_type": "execute_result"
    }
   ],
   "source": [
    "train"
   ]
  },
  {
   "cell_type": "code",
   "execution_count": 18,
   "id": "5ea78724",
   "metadata": {},
   "outputs": [
    {
     "data": {
      "text/plain": [
       "array([0., 0., 0., ..., 0., 0., 0.])"
      ]
     },
     "execution_count": 18,
     "metadata": {},
     "output_type": "execute_result"
    }
   ],
   "source": [
    "train.X[0] #Ya no es un gravConv si no un vector numérico ECFP"
   ]
  }
 ],
 "metadata": {
  "kernelspec": {
   "display_name": "Python 3 (ipykernel)",
   "language": "python",
   "name": "python3"
  },
  "language_info": {
   "codemirror_mode": {
    "name": "ipython",
    "version": 3
   },
   "file_extension": ".py",
   "mimetype": "text/x-python",
   "name": "python",
   "nbconvert_exporter": "python",
   "pygments_lexer": "ipython3",
   "version": "3.8.3"
  }
 },
 "nbformat": 4,
 "nbformat_minor": 5
}
